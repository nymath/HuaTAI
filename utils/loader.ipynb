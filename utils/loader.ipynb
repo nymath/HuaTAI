{
 "cells": [
  {
   "cell_type": "code",
   "execution_count": 1,
   "metadata": {},
   "outputs": [],
   "source": [
    "import pandas as pd\n",
    "import numpy as np\n",
    "import torch\n",
    "import torch.nn as nn\n",
    "import torch.nn.functional as F\n",
    "from torch.utils.data import Dataset, DataLoader"
   ]
  },
  {
   "cell_type": "code",
   "execution_count": 9,
   "metadata": {},
   "outputs": [],
   "source": [
    "# 对于单只股票, 数据结构是一个二维数组\n",
    "X_2D = np.random.normal(100, 10, (2520, 70))\n",
    "y = np.random.normal(0.02, 0.01, (2520, ))"
   ]
  },
  {
   "cell_type": "code",
   "execution_count": 12,
   "metadata": {},
   "outputs": [],
   "source": [
    "class MyDataSet(Dataset):\n",
    "    def __init__(self, X, y):\n",
    "        assert len(X) == len(y)\n",
    "        self.X = X\n",
    "        self.y = y\n",
    "\n",
    "    def __len__(self):\n",
    "        return len(self.X)\n",
    "    \n",
    "    def __getitem__(self, index):\n",
    "        return self.X[index], self.y[index]"
   ]
  },
  {
   "cell_type": "code",
   "execution_count": 15,
   "metadata": {},
   "outputs": [],
   "source": [
    "ds = MyDataSet(X_2D, y)"
   ]
  },
  {
   "cell_type": "code",
   "execution_count": 34,
   "metadata": {},
   "outputs": [
    {
     "data": {
      "text/plain": [
       "(2, 70)"
      ]
     },
     "execution_count": 34,
     "metadata": {},
     "output_type": "execute_result"
    }
   ],
   "source": [
    "ds[10:12][0].shape"
   ]
  },
  {
   "cell_type": "code",
   "execution_count": null,
   "metadata": {},
   "outputs": [],
   "source": []
  },
  {
   "cell_type": "markdown",
   "metadata": {},
   "source": [
    "# Ts, for RNN"
   ]
  },
  {
   "cell_type": "code",
   "execution_count": 25,
   "metadata": {},
   "outputs": [],
   "source": [
    "# Suppose we have a tseries with n features"
   ]
  },
  {
   "cell_type": "code",
   "execution_count": null,
   "metadata": {},
   "outputs": [],
   "source": [
    "# 如果y的创建用到了未来数据, 那么把ts_data"
   ]
  },
  {
   "cell_type": "code",
   "execution_count": 29,
   "metadata": {},
   "outputs": [],
   "source": [
    "ts_data = np.random.normal(100, 10, (2520, 70))\n",
    "ts_data_label = np.random.normal(0.02, 0.1, (2520, ))"
   ]
  },
  {
   "cell_type": "code",
   "execution_count": 75,
   "metadata": {},
   "outputs": [],
   "source": [
    "import typing\n",
    "import torch\n",
    "import numpy as np\n",
    "class TsDataSet(Dataset):\n",
    "\n",
    "    offset: int \n",
    "    X_2D: typing.Union[np.ndarray, torch.Tensor]\n",
    "    y: typing.Union[np.ndarray, torch.Tensor]\n",
    "\n",
    "    def __init__(\n",
    "            self, \n",
    "            X: typing.Union[np.ndarray, torch.Tensor], \n",
    "            y: typing.Union[np.ndarray, torch.Tensor], \n",
    "            len_seq: int=5, \n",
    "            zero_padding=True,\n",
    "    ):\n",
    "        self.offset = len_seq\n",
    "        self.X_2D = X\n",
    "        self.y = y\n",
    "        self.X_2D_padded = self._zero_padding()\n",
    "        self.X_3D = np.concatenate([self.X_2D_padded[index: index+self.offset][np.newaxis, ...] for index in range(len(self.X_2D))], axis=0)\n",
    "\n",
    "    def _zero_padding(self):\n",
    "        padding_array = np.zeros(shape=(self.offset-1, self.X_2D.shape[1]), dtype=self.X_2D.dtype)\n",
    "        X_pad = np.concatenate([padding_array, self.X_2D], axis=0)\n",
    "        return X_pad    \n",
    "\n",
    "    def __len__(self):\n",
    "        return len(self.X_2D)\n",
    "    \n",
    "    def __getitem__(self, index) -> typing.Tuple[typing.Union[np.ndarray, torch.Tensor], typing.Union[np.ndarray, torch.Tensor]]:\n",
    "        return self.X_3D[index], self.y[index]"
   ]
  },
  {
   "cell_type": "code",
   "execution_count": 76,
   "metadata": {},
   "outputs": [],
   "source": [
    "ts_data_set = TsDataSet(ts_data, ts_data_label)\n",
    "ts_data_loader = DataLoader(dataset=ts_data_set, batch_size=16, shuffle=True)"
   ]
  },
  {
   "cell_type": "code",
   "execution_count": 85,
   "metadata": {},
   "outputs": [],
   "source": [
    "data_iter = iter(ts_data_loader)"
   ]
  },
  {
   "cell_type": "code",
   "execution_count": 89,
   "metadata": {},
   "outputs": [],
   "source": [
    "data_batch = next(data_iter)"
   ]
  },
  {
   "cell_type": "code",
   "execution_count": 92,
   "metadata": {},
   "outputs": [
    {
     "data": {
      "text/plain": [
       "tensor([[[104.8995, 113.0671, 102.3795,  ...,  90.2112, 115.3298, 101.6391],\n",
       "         [108.6183,  96.8552, 121.7096,  ...,  82.1136,  97.6914,  95.3650],\n",
       "         [ 92.9488,  96.4737, 116.0551,  ...,  85.0252, 100.0508, 126.7118],\n",
       "         [115.8829,  83.6619, 108.0222,  ..., 109.5998, 102.3212, 103.7188],\n",
       "         [ 92.9737, 127.4365,  97.3127,  ..., 111.8935, 102.1500, 106.5334]],\n",
       "\n",
       "        [[ 93.1962, 104.3539,  92.6209,  ..., 124.5690, 103.3286,  95.9846],\n",
       "         [106.8587, 105.0528, 101.2982,  ...,  94.8759, 101.6539,  89.1772],\n",
       "         [ 94.4634, 117.4887, 109.2796,  ...,  98.1306, 104.6419,  95.8360],\n",
       "         [ 97.7332, 100.3376,  99.3156,  ..., 103.8390, 113.0837, 104.2476],\n",
       "         [ 97.8045, 104.7634, 105.7869,  ...,  93.2516,  97.7637, 110.6219]],\n",
       "\n",
       "        [[108.0323,  97.6574, 124.4590,  ..., 110.7517,  96.6154, 105.4796],\n",
       "         [ 95.0918,  99.0115,  91.1631,  ...,  89.4445, 107.8128,  83.7360],\n",
       "         [ 82.1950, 107.2381,  93.4295,  ..., 101.0105,  90.7488, 103.6048],\n",
       "         [ 77.2427,  94.8507,  87.4024,  ..., 117.0261,  92.0083, 109.3522],\n",
       "         [110.4877, 106.9794,  95.5699,  ..., 105.8033, 112.7975,  97.5466]],\n",
       "\n",
       "        ...,\n",
       "\n",
       "        [[112.8360,  97.1891, 102.3889,  ...,  86.8822,  87.2434, 111.1935],\n",
       "         [101.6633, 105.1878, 101.0544,  ..., 114.1406,  96.1990, 105.3501],\n",
       "         [117.0586,  88.2837,  98.9690,  ..., 109.9449,  90.2845,  85.9262],\n",
       "         [113.7994,  98.8461, 104.8954,  ...,  97.7657, 100.2361, 100.7610],\n",
       "         [104.9821,  84.9921, 107.9196,  ..., 105.7587,  98.5714,  98.8584]],\n",
       "\n",
       "        [[101.8616, 111.6269, 103.6872,  ...,  98.7415,  89.5559, 121.1532],\n",
       "         [101.7093,  82.3823, 105.1858,  ..., 104.2223, 109.7221, 103.6632],\n",
       "         [102.4119,  72.1532, 102.2223,  ..., 104.6335, 111.4189, 103.0473],\n",
       "         [100.4083, 119.6037, 106.4234,  ...,  99.2684,  98.7100, 119.8828],\n",
       "         [ 98.4034, 115.0090,  98.2734,  ..., 103.3264, 102.5659,  99.3599]],\n",
       "\n",
       "        [[ 99.0485, 105.1772,  90.7338,  ...,  87.1895,  94.2615,  98.6852],\n",
       "         [120.2150, 102.8088, 102.0912,  ..., 101.8540, 111.7797,  91.9979],\n",
       "         [ 88.5869, 109.2863, 101.0480,  ...,  88.8503,  93.1654,  94.9965],\n",
       "         [108.3741, 104.5540,  87.3294,  ...,  91.8477, 100.4741,  89.6052],\n",
       "         [ 82.0994,  88.1519, 110.1746,  ...,  98.5237, 103.0524, 112.6868]]],\n",
       "       dtype=torch.float64)"
      ]
     },
     "execution_count": 92,
     "metadata": {},
     "output_type": "execute_result"
    }
   ],
   "source": [
    "data_batch[0]"
   ]
  },
  {
   "cell_type": "code",
   "execution_count": null,
   "metadata": {},
   "outputs": [],
   "source": []
  }
 ],
 "metadata": {
  "kernelspec": {
   "display_name": "torch_env",
   "language": "python",
   "name": "python3"
  },
  "language_info": {
   "codemirror_mode": {
    "name": "ipython",
    "version": 3
   },
   "file_extension": ".py",
   "mimetype": "text/x-python",
   "name": "python",
   "nbconvert_exporter": "python",
   "pygments_lexer": "ipython3",
   "version": "3.10.12"
  },
  "orig_nbformat": 4
 },
 "nbformat": 4,
 "nbformat_minor": 2
}
